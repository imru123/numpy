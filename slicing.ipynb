{
  "nbformat": 4,
  "nbformat_minor": 0,
  "metadata": {
    "colab": {
      "provenance": [],
      "include_colab_link": true
    },
    "kernelspec": {
      "name": "python3",
      "display_name": "Python 3"
    },
    "language_info": {
      "name": "python"
    }
  },
  "cells": [
    {
      "cell_type": "markdown",
      "metadata": {
        "id": "view-in-github",
        "colab_type": "text"
      },
      "source": [
        "<a href=\"https://colab.research.google.com/github/imru123/numpy/blob/main/slicing.ipynb\" target=\"_parent\"><img src=\"https://colab.research.google.com/assets/colab-badge.svg\" alt=\"Open In Colab\"/></a>"
      ]
    },
    {
      "cell_type": "markdown",
      "source": [
        "1.How can I slice a 1-dimensional array in NumPy?"
      ],
      "metadata": {
        "id": "15OvOSqJ7YkU"
      }
    },
    {
      "cell_type": "code",
      "execution_count": null,
      "metadata": {
        "id": "VG5OzdeU7Urb",
        "colab": {
          "base_uri": "https://localhost:8080/"
        },
        "outputId": "37136a28-d33a-48d7-fef5-00713cb30d7c"
      },
      "outputs": [
        {
          "output_type": "stream",
          "name": "stdout",
          "text": [
            "[2 3]\n"
          ]
        }
      ],
      "source": [
        "import numpy as np\n",
        "a=np.array([1,2,3,4,5])\n",
        "print(a[1:3])"
      ]
    },
    {
      "cell_type": "markdown",
      "source": [
        "2.Can I slice a 2-dimensional array in NumPy?"
      ],
      "metadata": {
        "id": "XGiRc6xOSnu7"
      }
    },
    {
      "cell_type": "code",
      "source": [
        "b=np.array([[2,3,4],[5,6,7]])\n",
        "print(b[0,0:2])"
      ],
      "metadata": {
        "colab": {
          "base_uri": "https://localhost:8080/"
        },
        "id": "ww9imzT-StAh",
        "outputId": "ee239c9f-5396-4d57-a464-946aed51bd56"
      },
      "execution_count": null,
      "outputs": [
        {
          "output_type": "stream",
          "name": "stdout",
          "text": [
            "[2 3]\n"
          ]
        }
      ]
    },
    {
      "cell_type": "markdown",
      "source": [
        "3.How can I slice an array with a step in NumPy?"
      ],
      "metadata": {
        "id": "YAvEIhYBStdj"
      }
    },
    {
      "cell_type": "code",
      "source": [
        "print(a[::2])"
      ],
      "metadata": {
        "colab": {
          "base_uri": "https://localhost:8080/"
        },
        "id": "hGYNk_XxSxTO",
        "outputId": "b70792a1-8bac-4211-d71a-9de49a6b5ba1"
      },
      "execution_count": null,
      "outputs": [
        {
          "output_type": "stream",
          "name": "stdout",
          "text": [
            "[1 3 5]\n"
          ]
        }
      ]
    },
    {
      "cell_type": "markdown",
      "source": [
        "4.Can I use negative indices for slicing in NumPy?"
      ],
      "metadata": {
        "id": "n8xSJ0uHSyK5"
      }
    },
    {
      "cell_type": "code",
      "source": [
        "print(a[-2:])"
      ],
      "metadata": {
        "colab": {
          "base_uri": "https://localhost:8080/"
        },
        "id": "t8L7QizqS1-t",
        "outputId": "5ee84d75-ccb8-4330-ccb1-3bd3a2f76162"
      },
      "execution_count": null,
      "outputs": [
        {
          "output_type": "stream",
          "name": "stdout",
          "text": [
            "[4 5]\n"
          ]
        }
      ]
    },
    {
      "cell_type": "markdown",
      "source": [
        "5.What happens if I omit the start or end index in a slice?"
      ],
      "metadata": {
        "id": "rMXiKye_S2jB"
      }
    },
    {
      "cell_type": "code",
      "source": [
        "print(a[:])"
      ],
      "metadata": {
        "colab": {
          "base_uri": "https://localhost:8080/"
        },
        "id": "zatQYrQ2S7Mn",
        "outputId": "ac53a07f-0688-49da-cd45-ccb414c400ea"
      },
      "execution_count": null,
      "outputs": [
        {
          "output_type": "stream",
          "name": "stdout",
          "text": [
            "[1 2 3 4 5]\n"
          ]
        }
      ]
    },
    {
      "cell_type": "markdown",
      "source": [
        "6.Can I modify the original array using slicing in NumPy?"
      ],
      "metadata": {
        "id": "cP3gOJ6sS7xA"
      }
    },
    {
      "cell_type": "code",
      "source": [
        "c=np.array([23,42,38,2,4])\n",
        "print(c)\n",
        "c[0]=100\n",
        "print(c)"
      ],
      "metadata": {
        "colab": {
          "base_uri": "https://localhost:8080/"
        },
        "id": "kCpXbG5WS_KF",
        "outputId": "bb46052a-d9bb-4b7b-c63f-21ff45f4c0e2"
      },
      "execution_count": null,
      "outputs": [
        {
          "output_type": "stream",
          "name": "stdout",
          "text": [
            "[23 42 38  2  4]\n",
            "[100  42  38   2   4]\n"
          ]
        }
      ]
    },
    {
      "cell_type": "markdown",
      "source": [
        "7.How can I slice a multi-dimensional array along a specific axis in NumPy?"
      ],
      "metadata": {
        "id": "wK-cV1lPS_pe"
      }
    },
    {
      "cell_type": "code",
      "source": [],
      "metadata": {
        "id": "rwpHABtATC-f"
      },
      "execution_count": null,
      "outputs": []
    },
    {
      "cell_type": "markdown",
      "source": [
        "8.Can I use boolean indexing for slicing in NumPy?"
      ],
      "metadata": {
        "id": "gQMEcdu1TDdT"
      }
    },
    {
      "cell_type": "code",
      "source": [
        "arr0=np.array([1,2,3,4,5,6,7])\n",
        "mask=np.array([True,True,False,True,False,False,True])\n",
        "sliced_array=arr0[mask]\n",
        "print(sliced_array)"
      ],
      "metadata": {
        "colab": {
          "base_uri": "https://localhost:8080/"
        },
        "id": "6y0jJPa7TG1E",
        "outputId": "8bc7086d-708c-426c-f510-5e68ca953702"
      },
      "execution_count": null,
      "outputs": [
        {
          "output_type": "stream",
          "name": "stdout",
          "text": [
            "[1 2 4 7]\n"
          ]
        }
      ]
    },
    {
      "cell_type": "markdown",
      "source": [
        "9.How can I reverse the elements of an array using slicing in NumPy?"
      ],
      "metadata": {
        "id": "EeSvwxsgTH5P"
      }
    },
    {
      "cell_type": "code",
      "source": [
        "print(a[::-1])"
      ],
      "metadata": {
        "colab": {
          "base_uri": "https://localhost:8080/"
        },
        "id": "BbqGZIErTMeA",
        "outputId": "1c0f2e81-fd4b-4240-b4cb-56de3fa3594a"
      },
      "execution_count": null,
      "outputs": [
        {
          "output_type": "stream",
          "name": "stdout",
          "text": [
            "[5 4 3 2 1]\n"
          ]
        }
      ]
    },
    {
      "cell_type": "markdown",
      "source": [
        "10.Can I use slicing to extract a sub-array from a higher-dimensional array in NumPy?"
      ],
      "metadata": {
        "id": "NfPrOfelTM97"
      }
    },
    {
      "cell_type": "code",
      "source": [
        "d=np.array([[[1,2,3],[4,5,6]],[[7,8,9],[10,11,12]],[[13,14,15],[16,17,18]]])\n",
        "print(d)\n",
        "print(d[2,0:1])"
      ],
      "metadata": {
        "colab": {
          "base_uri": "https://localhost:8080/"
        },
        "id": "8YWu8vbsTRpe",
        "outputId": "cd463e54-1cee-4f59-86e8-abc3c2dd4643"
      },
      "execution_count": null,
      "outputs": [
        {
          "output_type": "stream",
          "name": "stdout",
          "text": [
            "[[[ 1  2  3]\n",
            "  [ 4  5  6]]\n",
            "\n",
            " [[ 7  8  9]\n",
            "  [10 11 12]]\n",
            "\n",
            " [[13 14 15]\n",
            "  [16 17 18]]]\n",
            "[[13 14 15]]\n"
          ]
        }
      ]
    },
    {
      "cell_type": "markdown",
      "source": [
        "11.How can I create a copy of a sliced array in NumPy?"
      ],
      "metadata": {
        "id": "hH39fUOVTSKC"
      }
    },
    {
      "cell_type": "code",
      "source": [
        "cc=np.array([1,3,5,7])\n",
        "dd=cc.copy()\n",
        "dd[1]=30\n",
        "print(cc)\n",
        "print(dd)"
      ],
      "metadata": {
        "colab": {
          "base_uri": "https://localhost:8080/"
        },
        "id": "cZ165II1TVu1",
        "outputId": "3b2c23b3-56f2-46e2-9d55-31b937cdee4d"
      },
      "execution_count": null,
      "outputs": [
        {
          "output_type": "stream",
          "name": "stdout",
          "text": [
            "[1 3 5 7]\n",
            "[ 1 30  5  7]\n"
          ]
        }
      ]
    },
    {
      "cell_type": "markdown",
      "source": [
        "12. Can I use slicing to assign values to a subset of an array in NumPy?"
      ],
      "metadata": {
        "id": "kMQ1WVdgTWPP"
      }
    },
    {
      "cell_type": "code",
      "source": [
        "k=np.array([[1,2,3],[3,4,5],[5,6,7],[7,8,9]])\n",
        "print(k)\n",
        "g=k[2,0:3]\n",
        "k[0]+g"
      ],
      "metadata": {
        "colab": {
          "base_uri": "https://localhost:8080/"
        },
        "id": "SImNr0xmTaAd",
        "outputId": "05ef7217-36c9-4a8a-8804-0461ce87a491"
      },
      "execution_count": null,
      "outputs": [
        {
          "output_type": "stream",
          "name": "stdout",
          "text": [
            "[[1 2 3]\n",
            " [3 4 5]\n",
            " [5 6 7]\n",
            " [7 8 9]]\n"
          ]
        },
        {
          "output_type": "execute_result",
          "data": {
            "text/plain": [
              "array([ 6,  8, 10])"
            ]
          },
          "metadata": {},
          "execution_count": 26
        }
      ]
    },
    {
      "cell_type": "markdown",
      "source": [
        "13.  Is it possible to slice an array with non-contiguous indices in NumPy?"
      ],
      "metadata": {
        "id": "MgUjhyJnTahz"
      }
    },
    {
      "cell_type": "code",
      "source": [
        "ab=np.array([1,2,3,4,5,6,7,8,9,10])\n",
        "print(ab[::2])"
      ],
      "metadata": {
        "colab": {
          "base_uri": "https://localhost:8080/"
        },
        "id": "IsIVLu69Te_N",
        "outputId": "1cb06a18-f9ef-4974-9da9-206eea2564da"
      },
      "execution_count": null,
      "outputs": [
        {
          "output_type": "stream",
          "name": "stdout",
          "text": [
            "[1 3 5 7 9]\n"
          ]
        }
      ]
    },
    {
      "cell_type": "markdown",
      "source": [
        "14.  Can I use slicing to extract elements based on a condition in NumPy?"
      ],
      "metadata": {
        "id": "WIqk_IS6Tft4"
      }
    },
    {
      "cell_type": "code",
      "source": [
        "h=np.array([23,94,12,40])\n",
        "l=np.array([46,7,9,23])\n",
        "h[l>10]"
      ],
      "metadata": {
        "colab": {
          "base_uri": "https://localhost:8080/"
        },
        "id": "bUUhKkX7TjFE",
        "outputId": "ab495408-ebe7-4424-c245-4376bb326d88"
      },
      "execution_count": null,
      "outputs": [
        {
          "output_type": "execute_result",
          "data": {
            "text/plain": [
              "array([23, 40])"
            ]
          },
          "metadata": {},
          "execution_count": 27
        }
      ]
    },
    {
      "cell_type": "markdown",
      "source": [
        "15.  How can I slice an array along multiple axes in NumPy? (To slice an array along multiple axes, you can use slicing syntax for each axis separated by commas)"
      ],
      "metadata": {
        "id": "anQJVUgYTjkL"
      }
    },
    {
      "cell_type": "code",
      "source": [
        "fh=np.array([[[1,2],[2,3]],[[3,4],[5,6]],[[7,8],[8,9]]])\n",
        "print(fh)\n",
        "print(fh[0,1,1])"
      ],
      "metadata": {
        "id": "mdSQtLWvTwtw",
        "colab": {
          "base_uri": "https://localhost:8080/"
        },
        "outputId": "59021cb0-42d9-4365-923d-efa367af6208"
      },
      "execution_count": null,
      "outputs": [
        {
          "output_type": "stream",
          "name": "stdout",
          "text": [
            "[[[1 2]\n",
            "  [2 3]]\n",
            "\n",
            " [[3 4]\n",
            "  [5 6]]\n",
            "\n",
            " [[7 8]\n",
            "  [8 9]]]\n",
            "3\n"
          ]
        }
      ]
    }
  ]
}